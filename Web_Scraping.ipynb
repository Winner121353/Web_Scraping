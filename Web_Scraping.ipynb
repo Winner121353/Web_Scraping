{
  "nbformat": 4,
  "nbformat_minor": 0,
  "metadata": {
    "kernelspec": {
      "display_name": "Python 3",
      "language": "python",
      "name": "python3"
    },
    "language_info": {
      "codemirror_mode": {
        "name": "ipython",
        "version": 3
      },
      "file_extension": ".py",
      "mimetype": "text/x-python",
      "name": "python",
      "nbconvert_exporter": "python",
      "pygments_lexer": "ipython3",
      "version": "3.7.3"
    },
    "colab": {
      "name": "Web_Scraping.ipynb",
      "provenance": [],
      "include_colab_link": true
    }
  },
  "cells": [
    {
      "cell_type": "markdown",
      "metadata": {
        "id": "view-in-github",
        "colab_type": "text"
      },
      "source": [
        "<a href=\"https://colab.research.google.com/github/Winner121353/Web_Scraping/blob/master/Web_Scraping.ipynb\" target=\"_parent\"><img src=\"https://colab.research.google.com/assets/colab-badge.svg\" alt=\"Open In Colab\"/></a>"
      ]
    },
    {
      "cell_type": "markdown",
      "metadata": {
        "id": "1yhBQr6EaaX8",
        "colab_type": "text"
      },
      "source": [
        "# Web_Scraping on Youtube Channel of CarryMinati"
      ]
    },
    {
      "cell_type": "code",
      "metadata": {
        "id": "KwML5-9ZaaYE",
        "colab_type": "code",
        "colab": {}
      },
      "source": [
        "import urllib.request\n",
        "import bs4 as bs\n",
        "import pandas as pd\n",
        "source = urllib.request.urlopen('https://www.youtube.com/user/AddictedA1/videos').read()\n",
        "soup = bs.BeautifulSoup(source,'lxml')"
      ],
      "execution_count": 0,
      "outputs": []
    },
    {
      "cell_type": "code",
      "metadata": {
        "id": "sMxu3nfYaaYe",
        "colab_type": "code",
        "colab": {},
        "outputId": "db376803-0bad-4230-fb75-d9df1917939e"
      },
      "source": [
        "title = soup.find_all('title')[0].string.split()\n",
        "print(title[0]+title[1]+title[2])"
      ],
      "execution_count": 0,
      "outputs": [
        {
          "output_type": "stream",
          "text": [
            "CarryMinati-YouTube\n"
          ],
          "name": "stdout"
        }
      ]
    },
    {
      "cell_type": "code",
      "metadata": {
        "id": "Rjw0xZJMaaYu",
        "colab_type": "code",
        "colab": {},
        "outputId": "2b814ad3-7d0a-4149-b35b-992af740f66a"
      },
      "source": [
        "channel_id = soup.find('body').find('script').string.split()[15].split('\"')[1].split('\\\\')\n",
        "print(channel_id[0]+channel_id[1]+channel_id[2]+channel_id[3]+channel_id[4])"
      ],
      "execution_count": 0,
      "outputs": [
        {
          "output_type": "stream",
          "text": [
            "http://www.youtube.com/user/AddictedA1\n"
          ],
          "name": "stdout"
        }
      ]
    },
    {
      "cell_type": "code",
      "metadata": {
        "id": "E3nJn486aaY-",
        "colab_type": "code",
        "colab": {}
      },
      "source": [
        "Video_Title = []\n",
        "Duration = []\n",
        "Views = []\n",
        "Uploaded_On = []"
      ],
      "execution_count": 0,
      "outputs": []
    },
    {
      "cell_type": "code",
      "metadata": {
        "id": "ig-C1_5naaZE",
        "colab_type": "code",
        "colab": {}
      },
      "source": [
        "for loop in soup.find('body').find_all('div',{'class':'yt-lockup-content'}):\n",
        "    title = loop.find('a').text\n",
        "    time = loop.find('span').text.split(':')[1]\n",
        "    views = loop.find('ul').find('li').string.split(' ')[0]\n",
        "    age = loop.find('ul').find_all('li')[1].string\n",
        "    Video_Title.append(title)\n",
        "    Duration.append(time)\n",
        "    Views.append(views)\n",
        "    Uploaded_On.append(age)\n",
        "        "
      ],
      "execution_count": 0,
      "outputs": []
    },
    {
      "cell_type": "code",
      "metadata": {
        "id": "-8P8CmytaaZM",
        "colab_type": "code",
        "colab": {},
        "outputId": "e1f66746-b077-4efa-bc34-e1f5f7bae712"
      },
      "source": [
        "print(Video_Title,Duration,Views,Uploaded_On)"
      ],
      "execution_count": 0,
      "outputs": [
        {
          "output_type": "stream",
          "text": [
            "['YALGAAR....COMING SOON', 'STOP MAKING ASSUMPTIONS | YOUTUBE VS TIK TOK: THE END', 'WARRIOR - CARRYMINATI X Wily Frenzy', 'FILM THE FLARE', 'ARE YOU A VIRGIN? QNA 2020 | CARRYMINATI', 'BIG BOSS BIG BOSS BIG BOSS PART 2 | CARRYMINATI', 'Zindagi - CARRYMINATI X Wily Frenzy', 'LADKA LADKI AUR WOH | CARRYMINATI', 'NOT A DARING SHOW FT. WAKAR ZAQA  | CARRYMINATI', 'TALENTED PEOPLE OF VIGO | CARRYMINATI', 'CUTE GIRLS PRANK | CARRYMINATI', 'wildest parties by carry minati', 'I JUMPED OFF A PLANE | CARRYMINATI QnA 2019', 'TIKTOK EVOLUTION 2019 | CARRYMINATI', 'SCHOOL TRIP OF THE YEAR', 'TRIGGER - CARRYMINATI X VIBGYOR', 'HEART BRAKEN KIDS OF TIK TOK', 'NO MORE SINGLE: VALENTINE SPECIAL FEAT ROCKY', 'MY REAL AGE | QNA 2019', 'Bye Pewdiepie | Carryminati', \"WEDDING OF THE YEAR (I'M INVITED!)\", 'Big Boss pART 1', 'PUBG INDIA: LIFE BATTLE ROYALE', 'INDIAN KID MEETS TOM CRUISE', 'HOW TO GET MODERN LOVE', 'THE PERFECT BRIDE', 'QnA 2018', 'English U.S.', 'SANGEET BHOJPURI'] [' 104 seconds.', ' 4 minutes, 50 seconds.', ' 3 minutes, 30 seconds.', ' 10 minutes, 11 seconds.', ' 8 minutes, 18 seconds.', ' 14 minutes, 34 seconds.', ' 3 minutes, 41 seconds.', ' 9 minutes, 6 seconds.', ' 8 minutes, 57 seconds.', ' 7 minutes, 27 seconds.', ' 8 minutes, 12 seconds.', ' 7 minutes, 33 seconds.', ' 7 minutes, 22 seconds.', ' 7 minutes, 25 seconds.', ' 8 minutes, 9 seconds.', ' 3 minutes, 4 seconds.', ' 7 minutes, 24 seconds.', ' 6 minutes, 8 seconds.', ' 6 minutes, 58 seconds.', ' 3 minutes, 14 seconds.', ' 6 minutes, 53 seconds.', ' 12 minutes, 28 seconds.', ' 16 minutes.', ' 8 minutes, 43 seconds.', ' 6 minutes, 32 seconds.', ' 7 minutes, 45 seconds.', ' 8 minutes, 15 seconds.', ' 13 minutes, 42 seconds.', ' 8 minutes, 32 seconds.'] ['27,321,186', '61,436,414', '9,080,342', '21,036,603', '12,557,718', '27,192,026', '12,806,194', '16,241,245', '24,395,264', '17,234,072', '14,797,761', '17,012,994', '8,567,917', '32,130,520', '10,376,342', '9,366,929', '19,447,069', '27,964,932', '8,315,814', '34,092,144', '20,762,319', '18,400,707', '22,763,626', '17,773,145', '16,407,060', '14,265,158', '5,144,838', '11,265,221', '14,928,493'] ['1 week ago', '2 weeks ago', '1 month ago', '1 month ago', '2 months ago', '3 months ago', '4 months ago', '5 months ago', '6 months ago', '7 months ago', '8 months ago', '9 months ago', '10 months ago', '10 months ago', '1 year ago', '1 year ago', '1 year ago', '1 year ago', '1 year ago', '1 year ago', '1 year ago', '1 year ago', '1 year ago', '1 year ago', '1 year ago', '2 years ago', '2 years ago', '2 years ago', '2 years ago']\n"
          ],
          "name": "stdout"
        }
      ]
    },
    {
      "cell_type": "code",
      "metadata": {
        "id": "1NSXJwteaaZS",
        "colab_type": "code",
        "colab": {}
      },
      "source": [
        "df = pd.DataFrame({'Video Title':Video_Title,'Total Duration':Duration,'Total Views':Views,'Uploaded':Uploaded_On})\n",
        "df.to_csv('CarryMinati.csv', index=False, encoding='utf-8') "
      ],
      "execution_count": 0,
      "outputs": []
    },
    {
      "cell_type": "code",
      "metadata": {
        "id": "zWL0XoRgaaZX",
        "colab_type": "code",
        "colab": {}
      },
      "source": [
        ""
      ],
      "execution_count": 0,
      "outputs": []
    }
  ]
}